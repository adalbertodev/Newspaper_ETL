{
 "cells": [
  {
   "cell_type": "code",
   "execution_count": 16,
   "metadata": {},
   "outputs": [],
   "source": [
    "\n",
    "import pandas as pd\n",
    "\n",
    "from urllib.parse import urlparse\n",
    "import hashlib"
   ]
  },
  {
   "cell_type": "code",
   "execution_count": 2,
   "metadata": {},
   "outputs": [
    {
     "data": {
      "text/html": [
       "<div>\n",
       "<style scoped>\n",
       "    .dataframe tbody tr th:only-of-type {\n",
       "        vertical-align: middle;\n",
       "    }\n",
       "\n",
       "    .dataframe tbody tr th {\n",
       "        vertical-align: top;\n",
       "    }\n",
       "\n",
       "    .dataframe thead th {\n",
       "        text-align: right;\n",
       "    }\n",
       "</style>\n",
       "<table border=\"1\" class=\"dataframe\">\n",
       "  <thead>\n",
       "    <tr style=\"text-align: right;\">\n",
       "      <th></th>\n",
       "      <th>body</th>\n",
       "      <th>title</th>\n",
       "      <th>url</th>\n",
       "    </tr>\n",
       "  </thead>\n",
       "  <tbody>\n",
       "    <tr>\n",
       "      <th>0</th>\n",
       "      <td>Caracas.- La venezolana Yulimar Rojas no pudo ...</td>\n",
       "      <td>Correr más rápido y saltar más alto es el obje...</td>\n",
       "      <td>http://www.eluniversal.com/deportes/144757/cor...</td>\n",
       "    </tr>\n",
       "    <tr>\n",
       "      <th>1</th>\n",
       "      <td>Sin haber terminado la primaria y sin saber ab...</td>\n",
       "      <td>José Alfredo Jiménez cantó al alma popular</td>\n",
       "      <td>http://www.eluniversal.com/entretenimiento/144...</td>\n",
       "    </tr>\n",
       "    <tr>\n",
       "      <th>2</th>\n",
       "      <td>Gilberto CarreñoEL UNIVERSALAl cumplirse esta ...</td>\n",
       "      <td>“A dos meses de las tragedias ocurridas en Ara...</td>\n",
       "      <td>http://www.eluniversal.com/politica/144881/a-d...</td>\n",
       "    </tr>\n",
       "    <tr>\n",
       "      <th>3</th>\n",
       "      <td>Elegancia y etiqueta que se traducen en un mom...</td>\n",
       "      <td>El té se viste de celebración</td>\n",
       "      <td>http://www.eluniversal.com/gastronomia/144789/...</td>\n",
       "    </tr>\n",
       "    <tr>\n",
       "      <th>4</th>\n",
       "      <td>Para beneficiar a las comunidades más vulnerab...</td>\n",
       "      <td>Chevron inicia proyecto para mejorar acceso al...</td>\n",
       "      <td>http://www.eluniversal.com/venezuela/145053/ch...</td>\n",
       "    </tr>\n",
       "  </tbody>\n",
       "</table>\n",
       "</div>"
      ],
      "text/plain": [
       "                                                body  \\\n",
       "0  Caracas.- La venezolana Yulimar Rojas no pudo ...   \n",
       "1  Sin haber terminado la primaria y sin saber ab...   \n",
       "2  Gilberto CarreñoEL UNIVERSALAl cumplirse esta ...   \n",
       "3  Elegancia y etiqueta que se traducen en un mom...   \n",
       "4  Para beneficiar a las comunidades más vulnerab...   \n",
       "\n",
       "                                               title  \\\n",
       "0  Correr más rápido y saltar más alto es el obje...   \n",
       "1         José Alfredo Jiménez cantó al alma popular   \n",
       "2  “A dos meses de las tragedias ocurridas en Ara...   \n",
       "3                      El té se viste de celebración   \n",
       "4  Chevron inicia proyecto para mejorar acceso al...   \n",
       "\n",
       "                                                 url  \n",
       "0  http://www.eluniversal.com/deportes/144757/cor...  \n",
       "1  http://www.eluniversal.com/entretenimiento/144...  \n",
       "2  http://www.eluniversal.com/politica/144881/a-d...  \n",
       "3  http://www.eluniversal.com/gastronomia/144789/...  \n",
       "4  http://www.eluniversal.com/venezuela/145053/ch...  "
      ]
     },
     "execution_count": 2,
     "metadata": {},
     "output_type": "execute_result"
    }
   ],
   "source": [
    "el_universal = pd.read_csv('../output/eluniversal_2022-12-11_articles.csv')\n",
    "el_universal.head()"
   ]
  },
  {
   "cell_type": "code",
   "execution_count": 3,
   "metadata": {},
   "outputs": [
    {
     "data": {
      "text/plain": [
       "(44, 3)"
      ]
     },
     "execution_count": 3,
     "metadata": {},
     "output_type": "execute_result"
    }
   ],
   "source": [
    "el_universal.shape"
   ]
  },
  {
   "cell_type": "markdown",
   "metadata": {},
   "source": [
    "## Data Wrangling"
   ]
  },
  {
   "cell_type": "markdown",
   "metadata": {},
   "source": [
    "#### 1. Añadir newspaper_uid al Dataframe"
   ]
  },
  {
   "cell_type": "code",
   "execution_count": 4,
   "metadata": {},
   "outputs": [
    {
     "data": {
      "text/html": [
       "<div>\n",
       "<style scoped>\n",
       "    .dataframe tbody tr th:only-of-type {\n",
       "        vertical-align: middle;\n",
       "    }\n",
       "\n",
       "    .dataframe tbody tr th {\n",
       "        vertical-align: top;\n",
       "    }\n",
       "\n",
       "    .dataframe thead th {\n",
       "        text-align: right;\n",
       "    }\n",
       "</style>\n",
       "<table border=\"1\" class=\"dataframe\">\n",
       "  <thead>\n",
       "    <tr style=\"text-align: right;\">\n",
       "      <th></th>\n",
       "      <th>body</th>\n",
       "      <th>title</th>\n",
       "      <th>url</th>\n",
       "      <th>newspaper_uid</th>\n",
       "    </tr>\n",
       "  </thead>\n",
       "  <tbody>\n",
       "    <tr>\n",
       "      <th>0</th>\n",
       "      <td>Caracas.- La venezolana Yulimar Rojas no pudo ...</td>\n",
       "      <td>Correr más rápido y saltar más alto es el obje...</td>\n",
       "      <td>http://www.eluniversal.com/deportes/144757/cor...</td>\n",
       "      <td>eluniversal</td>\n",
       "    </tr>\n",
       "    <tr>\n",
       "      <th>1</th>\n",
       "      <td>Sin haber terminado la primaria y sin saber ab...</td>\n",
       "      <td>José Alfredo Jiménez cantó al alma popular</td>\n",
       "      <td>http://www.eluniversal.com/entretenimiento/144...</td>\n",
       "      <td>eluniversal</td>\n",
       "    </tr>\n",
       "    <tr>\n",
       "      <th>2</th>\n",
       "      <td>Gilberto CarreñoEL UNIVERSALAl cumplirse esta ...</td>\n",
       "      <td>“A dos meses de las tragedias ocurridas en Ara...</td>\n",
       "      <td>http://www.eluniversal.com/politica/144881/a-d...</td>\n",
       "      <td>eluniversal</td>\n",
       "    </tr>\n",
       "    <tr>\n",
       "      <th>3</th>\n",
       "      <td>Elegancia y etiqueta que se traducen en un mom...</td>\n",
       "      <td>El té se viste de celebración</td>\n",
       "      <td>http://www.eluniversal.com/gastronomia/144789/...</td>\n",
       "      <td>eluniversal</td>\n",
       "    </tr>\n",
       "    <tr>\n",
       "      <th>4</th>\n",
       "      <td>Para beneficiar a las comunidades más vulnerab...</td>\n",
       "      <td>Chevron inicia proyecto para mejorar acceso al...</td>\n",
       "      <td>http://www.eluniversal.com/venezuela/145053/ch...</td>\n",
       "      <td>eluniversal</td>\n",
       "    </tr>\n",
       "  </tbody>\n",
       "</table>\n",
       "</div>"
      ],
      "text/plain": [
       "                                                body  \\\n",
       "0  Caracas.- La venezolana Yulimar Rojas no pudo ...   \n",
       "1  Sin haber terminado la primaria y sin saber ab...   \n",
       "2  Gilberto CarreñoEL UNIVERSALAl cumplirse esta ...   \n",
       "3  Elegancia y etiqueta que se traducen en un mom...   \n",
       "4  Para beneficiar a las comunidades más vulnerab...   \n",
       "\n",
       "                                               title  \\\n",
       "0  Correr más rápido y saltar más alto es el obje...   \n",
       "1         José Alfredo Jiménez cantó al alma popular   \n",
       "2  “A dos meses de las tragedias ocurridas en Ara...   \n",
       "3                      El té se viste de celebración   \n",
       "4  Chevron inicia proyecto para mejorar acceso al...   \n",
       "\n",
       "                                                 url newspaper_uid  \n",
       "0  http://www.eluniversal.com/deportes/144757/cor...   eluniversal  \n",
       "1  http://www.eluniversal.com/entretenimiento/144...   eluniversal  \n",
       "2  http://www.eluniversal.com/politica/144881/a-d...   eluniversal  \n",
       "3  http://www.eluniversal.com/gastronomia/144789/...   eluniversal  \n",
       "4  http://www.eluniversal.com/venezuela/145053/ch...   eluniversal  "
      ]
     },
     "execution_count": 4,
     "metadata": {},
     "output_type": "execute_result"
    }
   ],
   "source": [
    "el_universal['newspaper_uid'] = 'eluniversal'\n",
    "el_universal.head()"
   ]
  },
  {
   "cell_type": "markdown",
   "metadata": {},
   "source": [
    "#### 2. Obtener el host"
   ]
  },
  {
   "cell_type": "code",
   "execution_count": 5,
   "metadata": {},
   "outputs": [
    {
     "data": {
      "text/html": [
       "<div>\n",
       "<style scoped>\n",
       "    .dataframe tbody tr th:only-of-type {\n",
       "        vertical-align: middle;\n",
       "    }\n",
       "\n",
       "    .dataframe tbody tr th {\n",
       "        vertical-align: top;\n",
       "    }\n",
       "\n",
       "    .dataframe thead th {\n",
       "        text-align: right;\n",
       "    }\n",
       "</style>\n",
       "<table border=\"1\" class=\"dataframe\">\n",
       "  <thead>\n",
       "    <tr style=\"text-align: right;\">\n",
       "      <th></th>\n",
       "      <th>body</th>\n",
       "      <th>title</th>\n",
       "      <th>url</th>\n",
       "      <th>newspaper_uid</th>\n",
       "      <th>host</th>\n",
       "    </tr>\n",
       "  </thead>\n",
       "  <tbody>\n",
       "    <tr>\n",
       "      <th>0</th>\n",
       "      <td>Caracas.- La venezolana Yulimar Rojas no pudo ...</td>\n",
       "      <td>Correr más rápido y saltar más alto es el obje...</td>\n",
       "      <td>http://www.eluniversal.com/deportes/144757/cor...</td>\n",
       "      <td>eluniversal</td>\n",
       "      <td>www.eluniversal.com</td>\n",
       "    </tr>\n",
       "    <tr>\n",
       "      <th>1</th>\n",
       "      <td>Sin haber terminado la primaria y sin saber ab...</td>\n",
       "      <td>José Alfredo Jiménez cantó al alma popular</td>\n",
       "      <td>http://www.eluniversal.com/entretenimiento/144...</td>\n",
       "      <td>eluniversal</td>\n",
       "      <td>www.eluniversal.com</td>\n",
       "    </tr>\n",
       "    <tr>\n",
       "      <th>2</th>\n",
       "      <td>Gilberto CarreñoEL UNIVERSALAl cumplirse esta ...</td>\n",
       "      <td>“A dos meses de las tragedias ocurridas en Ara...</td>\n",
       "      <td>http://www.eluniversal.com/politica/144881/a-d...</td>\n",
       "      <td>eluniversal</td>\n",
       "      <td>www.eluniversal.com</td>\n",
       "    </tr>\n",
       "    <tr>\n",
       "      <th>3</th>\n",
       "      <td>Elegancia y etiqueta que se traducen en un mom...</td>\n",
       "      <td>El té se viste de celebración</td>\n",
       "      <td>http://www.eluniversal.com/gastronomia/144789/...</td>\n",
       "      <td>eluniversal</td>\n",
       "      <td>www.eluniversal.com</td>\n",
       "    </tr>\n",
       "    <tr>\n",
       "      <th>4</th>\n",
       "      <td>Para beneficiar a las comunidades más vulnerab...</td>\n",
       "      <td>Chevron inicia proyecto para mejorar acceso al...</td>\n",
       "      <td>http://www.eluniversal.com/venezuela/145053/ch...</td>\n",
       "      <td>eluniversal</td>\n",
       "      <td>www.eluniversal.com</td>\n",
       "    </tr>\n",
       "  </tbody>\n",
       "</table>\n",
       "</div>"
      ],
      "text/plain": [
       "                                                body  \\\n",
       "0  Caracas.- La venezolana Yulimar Rojas no pudo ...   \n",
       "1  Sin haber terminado la primaria y sin saber ab...   \n",
       "2  Gilberto CarreñoEL UNIVERSALAl cumplirse esta ...   \n",
       "3  Elegancia y etiqueta que se traducen en un mom...   \n",
       "4  Para beneficiar a las comunidades más vulnerab...   \n",
       "\n",
       "                                               title  \\\n",
       "0  Correr más rápido y saltar más alto es el obje...   \n",
       "1         José Alfredo Jiménez cantó al alma popular   \n",
       "2  “A dos meses de las tragedias ocurridas en Ara...   \n",
       "3                      El té se viste de celebración   \n",
       "4  Chevron inicia proyecto para mejorar acceso al...   \n",
       "\n",
       "                                                 url newspaper_uid  \\\n",
       "0  http://www.eluniversal.com/deportes/144757/cor...   eluniversal   \n",
       "1  http://www.eluniversal.com/entretenimiento/144...   eluniversal   \n",
       "2  http://www.eluniversal.com/politica/144881/a-d...   eluniversal   \n",
       "3  http://www.eluniversal.com/gastronomia/144789/...   eluniversal   \n",
       "4  http://www.eluniversal.com/venezuela/145053/ch...   eluniversal   \n",
       "\n",
       "                  host  \n",
       "0  www.eluniversal.com  \n",
       "1  www.eluniversal.com  \n",
       "2  www.eluniversal.com  \n",
       "3  www.eluniversal.com  \n",
       "4  www.eluniversal.com  "
      ]
     },
     "execution_count": 5,
     "metadata": {},
     "output_type": "execute_result"
    }
   ],
   "source": [
    "el_universal['host'] = el_universal['url'].apply(lambda url: urlparse(url).netloc)\n",
    "el_universal.head()"
   ]
  },
  {
   "cell_type": "code",
   "execution_count": 6,
   "metadata": {},
   "outputs": [
    {
     "data": {
      "text/plain": [
       "www.eluniversal.com    44\n",
       "Name: host, dtype: int64"
      ]
     },
     "execution_count": 6,
     "metadata": {},
     "output_type": "execute_result"
    }
   ],
   "source": [
    "el_universal['host'].value_counts()"
   ]
  },
  {
   "cell_type": "markdown",
   "metadata": {},
   "source": [
    "#### 3. Rellenar datos faltantes"
   ]
  },
  {
   "cell_type": "code",
   "execution_count": 15,
   "metadata": {},
   "outputs": [
    {
     "data": {
      "text/html": [
       "<div>\n",
       "<style scoped>\n",
       "    .dataframe tbody tr th:only-of-type {\n",
       "        vertical-align: middle;\n",
       "    }\n",
       "\n",
       "    .dataframe tbody tr th {\n",
       "        vertical-align: top;\n",
       "    }\n",
       "\n",
       "    .dataframe thead th {\n",
       "        text-align: right;\n",
       "    }\n",
       "</style>\n",
       "<table border=\"1\" class=\"dataframe\">\n",
       "  <thead>\n",
       "    <tr style=\"text-align: right;\">\n",
       "      <th></th>\n",
       "      <th>missing_titles</th>\n",
       "    </tr>\n",
       "  </thead>\n",
       "  <tbody>\n",
       "  </tbody>\n",
       "</table>\n",
       "</div>"
      ],
      "text/plain": [
       "Empty DataFrame\n",
       "Columns: [missing_titles]\n",
       "Index: []"
      ]
     },
     "execution_count": 15,
     "metadata": {},
     "output_type": "execute_result"
    }
   ],
   "source": [
    "missing_title_mask = el_universal['title'].isna()\n",
    "\n",
    "missing_titles = el_universal[missing_title_mask]['url'] \\\n",
    "    .str.extract(r'(?P<missing_titles>[^\\/]+)$') \\\n",
    "    .applymap(lambda title: title.split('-')) \\\n",
    "    .applymap(lambda title_word_list: ' '.join(title_word_list))\n",
    "    \n",
    "missing_titles"
   ]
  },
  {
   "cell_type": "markdown",
   "metadata": {},
   "source": [
    "#### 4. Añadir uid a las filas"
   ]
  },
  {
   "cell_type": "code",
   "execution_count": 17,
   "metadata": {},
   "outputs": [
    {
     "data": {
      "text/html": [
       "<div>\n",
       "<style scoped>\n",
       "    .dataframe tbody tr th:only-of-type {\n",
       "        vertical-align: middle;\n",
       "    }\n",
       "\n",
       "    .dataframe tbody tr th {\n",
       "        vertical-align: top;\n",
       "    }\n",
       "\n",
       "    .dataframe thead th {\n",
       "        text-align: right;\n",
       "    }\n",
       "</style>\n",
       "<table border=\"1\" class=\"dataframe\">\n",
       "  <thead>\n",
       "    <tr style=\"text-align: right;\">\n",
       "      <th></th>\n",
       "      <th>body</th>\n",
       "      <th>title</th>\n",
       "      <th>url</th>\n",
       "      <th>newspaper_uid</th>\n",
       "      <th>host</th>\n",
       "    </tr>\n",
       "    <tr>\n",
       "      <th>uid</th>\n",
       "      <th></th>\n",
       "      <th></th>\n",
       "      <th></th>\n",
       "      <th></th>\n",
       "      <th></th>\n",
       "    </tr>\n",
       "  </thead>\n",
       "  <tbody>\n",
       "    <tr>\n",
       "      <th>7aadb847089d5df9b9b4f7b88daaca1f</th>\n",
       "      <td>Caracas.- La venezolana Yulimar Rojas no pudo ...</td>\n",
       "      <td>Correr más rápido y saltar más alto es el obje...</td>\n",
       "      <td>http://www.eluniversal.com/deportes/144757/cor...</td>\n",
       "      <td>eluniversal</td>\n",
       "      <td>www.eluniversal.com</td>\n",
       "    </tr>\n",
       "    <tr>\n",
       "      <th>df832d45491a3c4b9c4a6820c23cea29</th>\n",
       "      <td>Sin haber terminado la primaria y sin saber ab...</td>\n",
       "      <td>José Alfredo Jiménez cantó al alma popular</td>\n",
       "      <td>http://www.eluniversal.com/entretenimiento/144...</td>\n",
       "      <td>eluniversal</td>\n",
       "      <td>www.eluniversal.com</td>\n",
       "    </tr>\n",
       "    <tr>\n",
       "      <th>343c0a22c7829a7b203c6a35d4deee07</th>\n",
       "      <td>Gilberto CarreñoEL UNIVERSALAl cumplirse esta ...</td>\n",
       "      <td>“A dos meses de las tragedias ocurridas en Ara...</td>\n",
       "      <td>http://www.eluniversal.com/politica/144881/a-d...</td>\n",
       "      <td>eluniversal</td>\n",
       "      <td>www.eluniversal.com</td>\n",
       "    </tr>\n",
       "    <tr>\n",
       "      <th>c2d6ff5f94d281843aa136ef05cf7bff</th>\n",
       "      <td>Elegancia y etiqueta que se traducen en un mom...</td>\n",
       "      <td>El té se viste de celebración</td>\n",
       "      <td>http://www.eluniversal.com/gastronomia/144789/...</td>\n",
       "      <td>eluniversal</td>\n",
       "      <td>www.eluniversal.com</td>\n",
       "    </tr>\n",
       "    <tr>\n",
       "      <th>175f0480dabfbec18a5a85500088aab4</th>\n",
       "      <td>Para beneficiar a las comunidades más vulnerab...</td>\n",
       "      <td>Chevron inicia proyecto para mejorar acceso al...</td>\n",
       "      <td>http://www.eluniversal.com/venezuela/145053/ch...</td>\n",
       "      <td>eluniversal</td>\n",
       "      <td>www.eluniversal.com</td>\n",
       "    </tr>\n",
       "  </tbody>\n",
       "</table>\n",
       "</div>"
      ],
      "text/plain": [
       "                                                                               body  \\\n",
       "uid                                                                                   \n",
       "7aadb847089d5df9b9b4f7b88daaca1f  Caracas.- La venezolana Yulimar Rojas no pudo ...   \n",
       "df832d45491a3c4b9c4a6820c23cea29  Sin haber terminado la primaria y sin saber ab...   \n",
       "343c0a22c7829a7b203c6a35d4deee07  Gilberto CarreñoEL UNIVERSALAl cumplirse esta ...   \n",
       "c2d6ff5f94d281843aa136ef05cf7bff  Elegancia y etiqueta que se traducen en un mom...   \n",
       "175f0480dabfbec18a5a85500088aab4  Para beneficiar a las comunidades más vulnerab...   \n",
       "\n",
       "                                                                              title  \\\n",
       "uid                                                                                   \n",
       "7aadb847089d5df9b9b4f7b88daaca1f  Correr más rápido y saltar más alto es el obje...   \n",
       "df832d45491a3c4b9c4a6820c23cea29         José Alfredo Jiménez cantó al alma popular   \n",
       "343c0a22c7829a7b203c6a35d4deee07  “A dos meses de las tragedias ocurridas en Ara...   \n",
       "c2d6ff5f94d281843aa136ef05cf7bff                      El té se viste de celebración   \n",
       "175f0480dabfbec18a5a85500088aab4  Chevron inicia proyecto para mejorar acceso al...   \n",
       "\n",
       "                                                                                url  \\\n",
       "uid                                                                                   \n",
       "7aadb847089d5df9b9b4f7b88daaca1f  http://www.eluniversal.com/deportes/144757/cor...   \n",
       "df832d45491a3c4b9c4a6820c23cea29  http://www.eluniversal.com/entretenimiento/144...   \n",
       "343c0a22c7829a7b203c6a35d4deee07  http://www.eluniversal.com/politica/144881/a-d...   \n",
       "c2d6ff5f94d281843aa136ef05cf7bff  http://www.eluniversal.com/gastronomia/144789/...   \n",
       "175f0480dabfbec18a5a85500088aab4  http://www.eluniversal.com/venezuela/145053/ch...   \n",
       "\n",
       "                                 newspaper_uid                 host  \n",
       "uid                                                                  \n",
       "7aadb847089d5df9b9b4f7b88daaca1f   eluniversal  www.eluniversal.com  \n",
       "df832d45491a3c4b9c4a6820c23cea29   eluniversal  www.eluniversal.com  \n",
       "343c0a22c7829a7b203c6a35d4deee07   eluniversal  www.eluniversal.com  \n",
       "c2d6ff5f94d281843aa136ef05cf7bff   eluniversal  www.eluniversal.com  \n",
       "175f0480dabfbec18a5a85500088aab4   eluniversal  www.eluniversal.com  "
      ]
     },
     "execution_count": 17,
     "metadata": {},
     "output_type": "execute_result"
    }
   ],
   "source": [
    "uids = el_universal \\\n",
    "    .apply(lambda row: hashlib.md5(bytes(row['url'].encode())), axis= 1) \\\n",
    "    .apply(lambda hash_object: hash_object.hexdigest())\n",
    "        \n",
    "el_universal['uid'] = uids\n",
    "el_universal.set_index('uid', inplace= True)\n",
    "\n",
    "el_universal.head()"
   ]
  },
  {
   "cell_type": "markdown",
   "metadata": {},
   "source": [
    "#### 5. Eliminar los nuevas lineas del body"
   ]
  },
  {
   "cell_type": "code",
   "execution_count": 20,
   "metadata": {},
   "outputs": [
    {
     "data": {
      "text/plain": [
       "uid\n",
       "7aadb847089d5df9b9b4f7b88daaca1f    Caracas.- La venezolana Yulimar Rojas no pudo ...\n",
       "df832d45491a3c4b9c4a6820c23cea29    Sin haber terminado la primaria y sin saber ab...\n",
       "343c0a22c7829a7b203c6a35d4deee07    Gilberto CarreñoEL UNIVERSALAl cumplirse esta ...\n",
       "c2d6ff5f94d281843aa136ef05cf7bff    Elegancia y etiqueta que se traducen en un mom...\n",
       "175f0480dabfbec18a5a85500088aab4    Para beneficiar a las comunidades más vulnerab...\n",
       "e7966095e7e42bbf2b1d6a4aafed670e    Caracas.- La vicepresidenta ejecutiva de la Re...\n",
       "12b5a3de0d367ade1607c7100ab4d920    El pasado primero de diciembre, en su cuenta d...\n",
       "550ebfee942719658263f30aa499c6d5    La empresa de boletos Ticketmaster, encargada ...\n",
       "ed6d53130a9d9f5871f6290b6682710a    En Rosalía se repite el efecto Almodóvar: se a...\n",
       "aec561a1c24bff79dd81a71598883323    “Diego era padrino de uno de tus hijos, ¿no?”....\n",
       "b42cfac9b1576883067647dbe8c10f36    El príncipe Harry y su esposa Meghan rechazaro...\n",
       "dcc4509f21eae2a8cb4b0d4512ecd9e0    Los países de la Unión Europea llegaron este s...\n",
       "7396312fc2d529daa9aaf13cd34518b5    Magaly PérezEL UNIVERSALEste año la economía p...\n",
       "fa6a2b3d50ac00c24eb5525dcebeb1ce    Caracas.- Este sábado 10 de diciembre finaliza...\n",
       "a8b6022fd8fdeba8e7904c34d5d7870a    Nuestras circunstancias humanas pueden ser úti...\n",
       "b9e24830e2dc1fb7b427cae4d72f54d2    Hace varios años un modesto restaurante de com...\n",
       "d890afed8fc84fba9251788749937193    La desaparición de dos menores de edad, un niñ...\n",
       "02740ffb91654e50fc4ce4fd36c2144f    El Gobierno de Venezuela está revisando sus po...\n",
       "a53715048252b9fda382d3e1c3e6331b    Lo prometimos y lo cumplimos. Desde que llegam...\n",
       "1d3e7d97ff238ce509a68e7e1557f9a0    Bernabé Gutiérrez, Secretario General Nacional...\n",
       "0fdb1d2436029579c00fdeed98651a68    A dos escalones de la gloria quedó Francia tra...\n",
       "0c317ddbaea63ead8a1c8a99f3bfc47a    Doha.- Marruecos hizo historia al meterse en l...\n",
       "15a81fc1baae54fda5f63e9544eb3cb7    Caracas.- La inauguración del mural ecológico ...\n",
       "40bac0935c0567f897ca32a8f5704950    Si la rivalidad entre Caracas y Magallanes sie...\n",
       "2eb97d793f749920295bd09a93460817    El más reciente Mundial, Qatar 2022, el fútbol...\n",
       "13799e68df248c603ef980c388c4802b    Este domingo 27 de Noviembre se llevó a cabo l...\n",
       "224b539e6a07cc026629475a3e2ae8c5    Lima.- La presidenta peruana, Dina Boluarte, n...\n",
       "74b5e0e62ce5534b928642150f8162e6    Caracas.- Venezuela dejará de hacer pruebas de...\n",
       "7240daae6162004097c0733a19bd5d9a    Caracas.- El presidente del Instituto Autónomo...\n",
       "beb0141f1eddf5a19745b2df81beb82c    La Fundación Venezolana contra la Parálisis In...\n",
       "e55d8a6c3b3e64c705e32ee7c57d82c6    Se tiene previsto que para el próximo 10 de en...\n",
       "82f45a0b85f49bf5e1e4930f2e5403f1    Caracas, 30 de noviembre 2022.- La Casa Pamper...\n",
       "ca3b28a8d4fd44bec155ce9baca8fb53    Londres.- El príncipe Enrique, hijo menor de C...\n",
       "ffd83cc120559f406274a4b430934e35    Gilberto CarreñoEL UNIVERSALEn la afanada búsq...\n",
       "537517fd284c75f79043042fa4e05db6    Oslo.- Los ganadores de Ucrania, Rusia y Bielo...\n",
       "a088487f54f115e9d85bf805e9ea5783    La vida de los boxeadores no es fácil. Parece ...\n",
       "20bf1ca5cea9ed34609c387ed2d5f42a    Caracas.- Durante la temporada de navidad, las...\n",
       "e896a792161588d2b6685b29a4d859c6    El subsecretario del Interior chileno, Manuel ...\n",
       "74a1421ae3dfa739b66f6cc2be969cea    “No confundamos estupidez con maldad. La estup...\n",
       "1cd990e0b79767a346e63ea1e35ce258    Londres.- El rey Carlos III visitará el Parlam...\n",
       "5397d53212c79d4a6eb010fa78c9485f    La quinta y última estación, denominada “Pico ...\n",
       "37aee0a2f431e621a3a30e0081529b56    Cristiano Ronaldo jugó este sábado contra Marr...\n",
       "b9c2fec20307dde9ee1ceb3e5a4debd6    El traficante de armas ruso Viktor Bout expres...\n",
       "e9e2d3551e370fa54f3ecece00e60d9a    Caracas.- La temporada del automovilismo venez...\n",
       "dtype: object"
      ]
     },
     "execution_count": 20,
     "metadata": {},
     "output_type": "execute_result"
    }
   ],
   "source": [
    "stripped_body = el_universal \\\n",
    "    .apply(lambda row: row['body'], axis= 1) \\\n",
    "    .apply(lambda body: list(body)) \\\n",
    "    .apply(lambda letters: list(map(lambda letter: letter.replace('\\n', ''), letters))) \\\n",
    "    .apply(lambda letters: ''.join(letters))\n",
    "    \n",
    "stripped_body"
   ]
  },
  {
   "cell_type": "code",
   "execution_count": 23,
   "metadata": {},
   "outputs": [
    {
     "data": {
      "text/plain": [
       "uid\n",
       "7aadb847089d5df9b9b4f7b88daaca1f    Caracas.- La venezolana Yulimar Rojas no pudo ...\n",
       "df832d45491a3c4b9c4a6820c23cea29    Sin haber terminado la primaria y sin saber ab...\n",
       "343c0a22c7829a7b203c6a35d4deee07    Gilberto CarreñoEL UNIVERSALAl cumplirse esta ...\n",
       "c2d6ff5f94d281843aa136ef05cf7bff    Elegancia y etiqueta que se traducen en un mom...\n",
       "175f0480dabfbec18a5a85500088aab4    Para beneficiar a las comunidades más vulnerab...\n",
       "e7966095e7e42bbf2b1d6a4aafed670e    Caracas.- La vicepresidenta ejecutiva de la Re...\n",
       "12b5a3de0d367ade1607c7100ab4d920    El pasado primero de diciembre, en su cuenta d...\n",
       "550ebfee942719658263f30aa499c6d5    La empresa de boletos Ticketmaster, encargada ...\n",
       "ed6d53130a9d9f5871f6290b6682710a    En Rosalía se repite el efecto Almodóvar: se a...\n",
       "aec561a1c24bff79dd81a71598883323    “Diego era padrino de uno de tus hijos, ¿no?”....\n",
       "b42cfac9b1576883067647dbe8c10f36    El príncipe Harry y su esposa Meghan rechazaro...\n",
       "dcc4509f21eae2a8cb4b0d4512ecd9e0    Los países de la Unión Europea llegaron este s...\n",
       "7396312fc2d529daa9aaf13cd34518b5    Magaly PérezEL UNIVERSALEste año la economía p...\n",
       "fa6a2b3d50ac00c24eb5525dcebeb1ce    Caracas.- Este sábado 10 de diciembre finaliza...\n",
       "a8b6022fd8fdeba8e7904c34d5d7870a    Nuestras circunstancias humanas pueden ser úti...\n",
       "b9e24830e2dc1fb7b427cae4d72f54d2    Hace varios años un modesto restaurante de com...\n",
       "d890afed8fc84fba9251788749937193    La desaparición de dos menores de edad, un niñ...\n",
       "02740ffb91654e50fc4ce4fd36c2144f    El Gobierno de Venezuela está revisando sus po...\n",
       "a53715048252b9fda382d3e1c3e6331b    Lo prometimos y lo cumplimos. Desde que llegam...\n",
       "1d3e7d97ff238ce509a68e7e1557f9a0    Bernabé Gutiérrez, Secretario General Nacional...\n",
       "0fdb1d2436029579c00fdeed98651a68    A dos escalones de la gloria quedó Francia tra...\n",
       "0c317ddbaea63ead8a1c8a99f3bfc47a    Doha.- Marruecos hizo historia al meterse en l...\n",
       "15a81fc1baae54fda5f63e9544eb3cb7    Caracas.- La inauguración del mural ecológico ...\n",
       "40bac0935c0567f897ca32a8f5704950    Si la rivalidad entre Caracas y Magallanes sie...\n",
       "2eb97d793f749920295bd09a93460817    El más reciente Mundial, Qatar 2022, el fútbol...\n",
       "13799e68df248c603ef980c388c4802b    Este domingo 27 de Noviembre se llevó a cabo l...\n",
       "224b539e6a07cc026629475a3e2ae8c5    Lima.- La presidenta peruana, Dina Boluarte, n...\n",
       "74b5e0e62ce5534b928642150f8162e6    Caracas.- Venezuela dejará de hacer pruebas de...\n",
       "7240daae6162004097c0733a19bd5d9a    Caracas.- El presidente del Instituto Autónomo...\n",
       "beb0141f1eddf5a19745b2df81beb82c    La Fundación Venezolana contra la Parálisis In...\n",
       "e55d8a6c3b3e64c705e32ee7c57d82c6    Se tiene previsto que para el próximo 10 de en...\n",
       "82f45a0b85f49bf5e1e4930f2e5403f1    Caracas, 30 de noviembre 2022.- La Casa Pamper...\n",
       "ca3b28a8d4fd44bec155ce9baca8fb53    Londres.- El príncipe Enrique, hijo menor de C...\n",
       "ffd83cc120559f406274a4b430934e35    Gilberto CarreñoEL UNIVERSALEn la afanada búsq...\n",
       "537517fd284c75f79043042fa4e05db6    Oslo.- Los ganadores de Ucrania, Rusia y Bielo...\n",
       "a088487f54f115e9d85bf805e9ea5783    La vida de los boxeadores no es fácil. Parece ...\n",
       "20bf1ca5cea9ed34609c387ed2d5f42a    Caracas.- Durante la temporada de navidad, las...\n",
       "e896a792161588d2b6685b29a4d859c6    El subsecretario del Interior chileno, Manuel ...\n",
       "74a1421ae3dfa739b66f6cc2be969cea    “No confundamos estupidez con maldad. La estup...\n",
       "1cd990e0b79767a346e63ea1e35ce258    Londres.- El rey Carlos III visitará el Parlam...\n",
       "5397d53212c79d4a6eb010fa78c9485f    La quinta y última estación, denominada “Pico ...\n",
       "37aee0a2f431e621a3a30e0081529b56    Cristiano Ronaldo jugó este sábado contra Marr...\n",
       "b9c2fec20307dde9ee1ceb3e5a4debd6    El traficante de armas ruso Viktor Bout expres...\n",
       "e9e2d3551e370fa54f3ecece00e60d9a    Caracas.- La temporada del automovilismo venez...\n",
       "dtype: object"
      ]
     },
     "execution_count": 23,
     "metadata": {},
     "output_type": "execute_result"
    }
   ],
   "source": [
    "el_universal \\\n",
    "    .apply(lambda row: row['body'].replace('\\n', ''), axis= 1)"
   ]
  },
  {
   "cell_type": "markdown",
   "metadata": {},
   "source": [
    "#### 6. Tokenizar el titulo y el body"
   ]
  },
  {
   "cell_type": "code",
   "execution_count": 33,
   "metadata": {},
   "outputs": [
    {
     "name": "stderr",
     "output_type": "stream",
     "text": [
      "[nltk_data] Downloading package punkt to\n",
      "[nltk_data]     C:\\Users\\adalb\\AppData\\Roaming\\nltk_data...\n",
      "[nltk_data]   Package punkt is already up-to-date!\n",
      "[nltk_data] Downloading package stopwords to\n",
      "[nltk_data]     C:\\Users\\adalb\\AppData\\Roaming\\nltk_data...\n",
      "[nltk_data]   Package stopwords is already up-to-date!\n"
     ]
    },
    {
     "data": {
      "text/plain": [
       "uid\n",
       "7aadb847089d5df9b9b4f7b88daaca1f     5\n",
       "df832d45491a3c4b9c4a6820c23cea29     6\n",
       "343c0a22c7829a7b203c6a35d4deee07     7\n",
       "c2d6ff5f94d281843aa136ef05cf7bff     3\n",
       "175f0480dabfbec18a5a85500088aab4     7\n",
       "e7966095e7e42bbf2b1d6a4aafed670e    10\n",
       "12b5a3de0d367ade1607c7100ab4d920     6\n",
       "550ebfee942719658263f30aa499c6d5     8\n",
       "ed6d53130a9d9f5871f6290b6682710a     7\n",
       "aec561a1c24bff79dd81a71598883323     7\n",
       "b42cfac9b1576883067647dbe8c10f36     7\n",
       "dcc4509f21eae2a8cb4b0d4512ecd9e0     7\n",
       "7396312fc2d529daa9aaf13cd34518b5     4\n",
       "fa6a2b3d50ac00c24eb5525dcebeb1ce     9\n",
       "a8b6022fd8fdeba8e7904c34d5d7870a     3\n",
       "b9e24830e2dc1fb7b427cae4d72f54d2     3\n",
       "d890afed8fc84fba9251788749937193     5\n",
       "02740ffb91654e50fc4ce4fd36c2144f     8\n",
       "a53715048252b9fda382d3e1c3e6331b     7\n",
       "1d3e7d97ff238ce509a68e7e1557f9a0    10\n",
       "0fdb1d2436029579c00fdeed98651a68     7\n",
       "0c317ddbaea63ead8a1c8a99f3bfc47a     8\n",
       "15a81fc1baae54fda5f63e9544eb3cb7     7\n",
       "40bac0935c0567f897ca32a8f5704950     4\n",
       "2eb97d793f749920295bd09a93460817     6\n",
       "13799e68df248c603ef980c388c4802b     7\n",
       "224b539e6a07cc026629475a3e2ae8c5     7\n",
       "74b5e0e62ce5534b928642150f8162e6     9\n",
       "7240daae6162004097c0733a19bd5d9a     7\n",
       "beb0141f1eddf5a19745b2df81beb82c     4\n",
       "e55d8a6c3b3e64c705e32ee7c57d82c6     7\n",
       "82f45a0b85f49bf5e1e4930f2e5403f1    11\n",
       "ca3b28a8d4fd44bec155ce9baca8fb53     8\n",
       "ffd83cc120559f406274a4b430934e35     6\n",
       "537517fd284c75f79043042fa4e05db6     9\n",
       "a088487f54f115e9d85bf805e9ea5783     4\n",
       "20bf1ca5cea9ed34609c387ed2d5f42a     6\n",
       "e896a792161588d2b6685b29a4d859c6     7\n",
       "74a1421ae3dfa739b66f6cc2be969cea     2\n",
       "1cd990e0b79767a346e63ea1e35ce258     8\n",
       "5397d53212c79d4a6eb010fa78c9485f     7\n",
       "37aee0a2f431e621a3a30e0081529b56     7\n",
       "b9c2fec20307dde9ee1ceb3e5a4debd6    10\n",
       "e9e2d3551e370fa54f3ecece00e60d9a     3\n",
       "dtype: int64"
      ]
     },
     "execution_count": 33,
     "metadata": {},
     "output_type": "execute_result"
    }
   ],
   "source": [
    "import nltk\n",
    "from nltk.corpus import stopwords\n",
    "\n",
    "nltk.download('punkt')\n",
    "nltk.download('stopwords')\n",
    "\n",
    "stop_words = set(stopwords.words('spanish'))\n",
    "\n",
    "def tokenize_columns(df: pd.DataFrame, column_name: str) -> pd.DataFrame:\n",
    "    return df \\\n",
    "        .dropna() \\\n",
    "        .apply(lambda row: nltk.word_tokenize(row[column_name]), axis= 1) \\\n",
    "        .apply(lambda tokens: list(filter(lambda token: token.isalpha(), tokens))) \\\n",
    "        .apply(lambda tokens: list(map(lambda token: token.lower(), tokens))) \\\n",
    "        .apply(lambda word_list: list(filter(lambda word: word not in stop_words, word_list))) \\\n",
    "        .apply(lambda valid_word_list: len(valid_word_list))\n",
    "        \n",
    "el_universal['n_tokens_title'] = tokenize_columns(el_universal, 'title')\n",
    "el_universal['n_tokens_body'] = tokenize_columns(el_universal, 'body')\n",
    "\n",
    "el_universal.head()"
   ]
  },
  {
   "cell_type": "markdown",
   "metadata": {},
   "source": [
    "#### 7. Eliminar duplicados"
   ]
  },
  {
   "cell_type": "code",
   "execution_count": 28,
   "metadata": {},
   "outputs": [
    {
     "data": {
      "text/plain": [
       "Correr más rápido y saltar más alto es el objetivo                                                                          1\n",
       "José Alfredo Jiménez cantó al alma popular                                                                                  1\n",
       "El VAR demuestra que la tecnología en el fútbol puede fallar                                                                1\n",
       "Cata de Vodka Nemiroff , producto exclusivo de Comercializadora Labraterra                                                  1\n",
       "Boluarte nombra su gabinete con un exfiscal superior como primer ministro                                                   1\n",
       "Venezuela pondrá fin a pruebas de Covid-19 en aeropuertos tras casi dos años                                                1\n",
       "Inspeccionan terminal de pasajeros La Bandera para garantizar seguridad de usuarios                                         1\n",
       "LA SOLIDARIDAD CONMEMORA OCHO DÉCADAS                                                                                       1\n",
       "Primeros mil vehículos iraníes llegarán al país en enero de 2023                                                            1\n",
       "Ron Pampero celebra la esencia de lo que somos con su nueva imagen premium y el lanzamiento de Ron Pampero Especial.        1\n",
       "\"Harry & Meghan\" fustiga a la prensa británica, la familia real y el racismo                                                1\n",
       "“Consenso y primarias son opciones que deben correr en paralelo”                                                            1\n",
       "Al recibir el Nobel de la Paz, ucranianos y rusos critican la guerra \"insensata\" de Putin                                   1\n",
       "Historias de la Violencia. El asesinato de “El Coloso”                                                                      1\n",
       "GNB fortalece medidas de seguridad en autopista Caracas–La Guaira                                                           1\n",
       "Gobierno chileno usará \"recursos disponibles para el control de fronteras\"                                                  1\n",
       "La guerra de los bocachancla                                                                                                1\n",
       "El rey Carlos III visitará el Parlamento británico el próximo miércoles                                                     1\n",
       "La estación Pico Espejo del Teleférico de Mérida será reactivada en enero                                                   1\n",
       "Cristiano Ronaldo iguala récord mundial de partidos internacionales con 196                                                 1\n",
       "Tras ser liberado, el traficante de armas Bout apoya la intervención rusa en Ucrania                                        1\n",
       "Para vencer al Caracas hay que anotarle 15 carreras                                                                         1\n",
       "Inauguran en Guatire el mural ecológico de tapas más grande del mundo                                                       1\n",
       "Marruecos gana 1-0 a Portugal y será el primer equipo africano en semifinales de un Mundial                                 1\n",
       "Harry y Meghan defienden el documental tras las críticas sobre su privacidad                                                1\n",
       "“A dos meses de las tragedias ocurridas en Aragua la recuperación avanza”                                                   1\n",
       "El té se viste de celebración                                                                                               1\n",
       "Chevron inicia proyecto para mejorar acceso al agua en Anzoátegui                                                           1\n",
       "Gobierno Nacional establece nuevas acciones en defensa del mercado cambiario y la tasa oficial                              1\n",
       "El abuso sexual infantil: Una epidemia que ataca la inocencia                                                               1\n",
       "Ticketmaster ofrece reembolso por duplicación de pases en concierto de Bad Bunny                                            1\n",
       "Rosalía: un fenómeno que va del mal querer al mal desear                                                                    1\n",
       "Leonardo Henríquez: “Me impresiona la mentalidad conservadora y conformista actual”                                         1\n",
       "Los países de la UE logran desbloquear la ayuda de 18.000 millones a Ucrania                                                1\n",
       "Francia gana 2-1 a Inglaterra y será rival de Marruecos en semifinal del Mundial                                            1\n",
       "Afirman que economía privada tendrá una recuperación de 9%                                                                  1\n",
       "Qatar 2022: Argentina y Marruecos se verán las caras contra dos grandes de Europa en semifinales                            1\n",
       "El coraje y valor de la literatura                                                                                          1\n",
       "Tequilibrio: Un clásico que regresa                                                                                         1\n",
       "Interpol busca a dos menores perdidas                                                                                       1\n",
       "Venezuela revisa sus políticas arancelarias con Colombia para equilibrar el intercambio comercial                           1\n",
       "Chacao cuenta con innovador Centro Integral de Seguridad Ciudadana                                                          1\n",
       "Bernabé Gutiérrez: \"AD ni se compra ni se vende, no participaremos en unas primarias que ya tienen el resultado cantado\"    1\n",
       "El automovilismo venezolano se reinventó en 2022                                                                            1\n",
       "Name: title, dtype: int64"
      ]
     },
     "execution_count": 28,
     "metadata": {},
     "output_type": "execute_result"
    }
   ],
   "source": [
    "el_universal['title'].value_counts()"
   ]
  },
  {
   "cell_type": "code",
   "execution_count": 29,
   "metadata": {},
   "outputs": [],
   "source": [
    "el_universal.drop_duplicates(subset= ['title'], keep= 'first', inplace= True)"
   ]
  },
  {
   "cell_type": "code",
   "execution_count": 30,
   "metadata": {},
   "outputs": [
    {
     "data": {
      "text/html": [
       "<div>\n",
       "<style scoped>\n",
       "    .dataframe tbody tr th:only-of-type {\n",
       "        vertical-align: middle;\n",
       "    }\n",
       "\n",
       "    .dataframe tbody tr th {\n",
       "        vertical-align: top;\n",
       "    }\n",
       "\n",
       "    .dataframe thead th {\n",
       "        text-align: right;\n",
       "    }\n",
       "</style>\n",
       "<table border=\"1\" class=\"dataframe\">\n",
       "  <thead>\n",
       "    <tr style=\"text-align: right;\">\n",
       "      <th></th>\n",
       "      <th>body</th>\n",
       "      <th>title</th>\n",
       "      <th>url</th>\n",
       "      <th>newspaper_uid</th>\n",
       "      <th>host</th>\n",
       "      <th>n_tokens_title</th>\n",
       "      <th>n_tokens_body</th>\n",
       "    </tr>\n",
       "    <tr>\n",
       "      <th>uid</th>\n",
       "      <th></th>\n",
       "      <th></th>\n",
       "      <th></th>\n",
       "      <th></th>\n",
       "      <th></th>\n",
       "      <th></th>\n",
       "      <th></th>\n",
       "    </tr>\n",
       "  </thead>\n",
       "  <tbody>\n",
       "    <tr>\n",
       "      <th>7aadb847089d5df9b9b4f7b88daaca1f</th>\n",
       "      <td>Caracas.- La venezolana Yulimar Rojas no pudo ...</td>\n",
       "      <td>Correr más rápido y saltar más alto es el obje...</td>\n",
       "      <td>http://www.eluniversal.com/deportes/144757/cor...</td>\n",
       "      <td>eluniversal</td>\n",
       "      <td>www.eluniversal.com</td>\n",
       "      <td>5</td>\n",
       "      <td>162</td>\n",
       "    </tr>\n",
       "    <tr>\n",
       "      <th>df832d45491a3c4b9c4a6820c23cea29</th>\n",
       "      <td>Sin haber terminado la primaria y sin saber ab...</td>\n",
       "      <td>José Alfredo Jiménez cantó al alma popular</td>\n",
       "      <td>http://www.eluniversal.com/entretenimiento/144...</td>\n",
       "      <td>eluniversal</td>\n",
       "      <td>www.eluniversal.com</td>\n",
       "      <td>6</td>\n",
       "      <td>254</td>\n",
       "    </tr>\n",
       "    <tr>\n",
       "      <th>343c0a22c7829a7b203c6a35d4deee07</th>\n",
       "      <td>Gilberto CarreñoEL UNIVERSALAl cumplirse esta ...</td>\n",
       "      <td>“A dos meses de las tragedias ocurridas en Ara...</td>\n",
       "      <td>http://www.eluniversal.com/politica/144881/a-d...</td>\n",
       "      <td>eluniversal</td>\n",
       "      <td>www.eluniversal.com</td>\n",
       "      <td>7</td>\n",
       "      <td>419</td>\n",
       "    </tr>\n",
       "    <tr>\n",
       "      <th>c2d6ff5f94d281843aa136ef05cf7bff</th>\n",
       "      <td>Elegancia y etiqueta que se traducen en un mom...</td>\n",
       "      <td>El té se viste de celebración</td>\n",
       "      <td>http://www.eluniversal.com/gastronomia/144789/...</td>\n",
       "      <td>eluniversal</td>\n",
       "      <td>www.eluniversal.com</td>\n",
       "      <td>3</td>\n",
       "      <td>194</td>\n",
       "    </tr>\n",
       "    <tr>\n",
       "      <th>175f0480dabfbec18a5a85500088aab4</th>\n",
       "      <td>Para beneficiar a las comunidades más vulnerab...</td>\n",
       "      <td>Chevron inicia proyecto para mejorar acceso al...</td>\n",
       "      <td>http://www.eluniversal.com/venezuela/145053/ch...</td>\n",
       "      <td>eluniversal</td>\n",
       "      <td>www.eluniversal.com</td>\n",
       "      <td>7</td>\n",
       "      <td>120</td>\n",
       "    </tr>\n",
       "    <tr>\n",
       "      <th>e7966095e7e42bbf2b1d6a4aafed670e</th>\n",
       "      <td>Caracas.- La vicepresidenta ejecutiva de la Re...</td>\n",
       "      <td>Gobierno Nacional establece nuevas acciones en...</td>\n",
       "      <td>http://www.eluniversal.com/economia/145025/gob...</td>\n",
       "      <td>eluniversal</td>\n",
       "      <td>www.eluniversal.com</td>\n",
       "      <td>10</td>\n",
       "      <td>149</td>\n",
       "    </tr>\n",
       "    <tr>\n",
       "      <th>12b5a3de0d367ade1607c7100ab4d920</th>\n",
       "      <td>El pasado primero de diciembre, en su cuenta d...</td>\n",
       "      <td>El abuso sexual infantil: Una epidemia que ata...</td>\n",
       "      <td>http://www.eluniversal.com/sucesos/144745/el-a...</td>\n",
       "      <td>eluniversal</td>\n",
       "      <td>www.eluniversal.com</td>\n",
       "      <td>6</td>\n",
       "      <td>508</td>\n",
       "    </tr>\n",
       "    <tr>\n",
       "      <th>550ebfee942719658263f30aa499c6d5</th>\n",
       "      <td>La empresa de boletos Ticketmaster, encargada ...</td>\n",
       "      <td>Ticketmaster ofrece reembolso por duplicación ...</td>\n",
       "      <td>http://www.eluniversal.com/entretenimiento/145...</td>\n",
       "      <td>eluniversal</td>\n",
       "      <td>www.eluniversal.com</td>\n",
       "      <td>8</td>\n",
       "      <td>233</td>\n",
       "    </tr>\n",
       "    <tr>\n",
       "      <th>ed6d53130a9d9f5871f6290b6682710a</th>\n",
       "      <td>En Rosalía se repite el efecto Almodóvar: se a...</td>\n",
       "      <td>Rosalía: un fenómeno que va del mal querer al ...</td>\n",
       "      <td>http://www.eluniversal.com/entretenimiento/144...</td>\n",
       "      <td>eluniversal</td>\n",
       "      <td>www.eluniversal.com</td>\n",
       "      <td>7</td>\n",
       "      <td>474</td>\n",
       "    </tr>\n",
       "    <tr>\n",
       "      <th>aec561a1c24bff79dd81a71598883323</th>\n",
       "      <td>“Diego era padrino de uno de tus hijos, ¿no?”....</td>\n",
       "      <td>Leonardo Henríquez: “Me impresiona la mentalid...</td>\n",
       "      <td>http://www.eluniversal.com/entretenimiento/144...</td>\n",
       "      <td>eluniversal</td>\n",
       "      <td>www.eluniversal.com</td>\n",
       "      <td>7</td>\n",
       "      <td>774</td>\n",
       "    </tr>\n",
       "  </tbody>\n",
       "</table>\n",
       "</div>"
      ],
      "text/plain": [
       "                                                                               body  \\\n",
       "uid                                                                                   \n",
       "7aadb847089d5df9b9b4f7b88daaca1f  Caracas.- La venezolana Yulimar Rojas no pudo ...   \n",
       "df832d45491a3c4b9c4a6820c23cea29  Sin haber terminado la primaria y sin saber ab...   \n",
       "343c0a22c7829a7b203c6a35d4deee07  Gilberto CarreñoEL UNIVERSALAl cumplirse esta ...   \n",
       "c2d6ff5f94d281843aa136ef05cf7bff  Elegancia y etiqueta que se traducen en un mom...   \n",
       "175f0480dabfbec18a5a85500088aab4  Para beneficiar a las comunidades más vulnerab...   \n",
       "e7966095e7e42bbf2b1d6a4aafed670e  Caracas.- La vicepresidenta ejecutiva de la Re...   \n",
       "12b5a3de0d367ade1607c7100ab4d920  El pasado primero de diciembre, en su cuenta d...   \n",
       "550ebfee942719658263f30aa499c6d5  La empresa de boletos Ticketmaster, encargada ...   \n",
       "ed6d53130a9d9f5871f6290b6682710a  En Rosalía se repite el efecto Almodóvar: se a...   \n",
       "aec561a1c24bff79dd81a71598883323  “Diego era padrino de uno de tus hijos, ¿no?”....   \n",
       "\n",
       "                                                                              title  \\\n",
       "uid                                                                                   \n",
       "7aadb847089d5df9b9b4f7b88daaca1f  Correr más rápido y saltar más alto es el obje...   \n",
       "df832d45491a3c4b9c4a6820c23cea29         José Alfredo Jiménez cantó al alma popular   \n",
       "343c0a22c7829a7b203c6a35d4deee07  “A dos meses de las tragedias ocurridas en Ara...   \n",
       "c2d6ff5f94d281843aa136ef05cf7bff                      El té se viste de celebración   \n",
       "175f0480dabfbec18a5a85500088aab4  Chevron inicia proyecto para mejorar acceso al...   \n",
       "e7966095e7e42bbf2b1d6a4aafed670e  Gobierno Nacional establece nuevas acciones en...   \n",
       "12b5a3de0d367ade1607c7100ab4d920  El abuso sexual infantil: Una epidemia que ata...   \n",
       "550ebfee942719658263f30aa499c6d5  Ticketmaster ofrece reembolso por duplicación ...   \n",
       "ed6d53130a9d9f5871f6290b6682710a  Rosalía: un fenómeno que va del mal querer al ...   \n",
       "aec561a1c24bff79dd81a71598883323  Leonardo Henríquez: “Me impresiona la mentalid...   \n",
       "\n",
       "                                                                                url  \\\n",
       "uid                                                                                   \n",
       "7aadb847089d5df9b9b4f7b88daaca1f  http://www.eluniversal.com/deportes/144757/cor...   \n",
       "df832d45491a3c4b9c4a6820c23cea29  http://www.eluniversal.com/entretenimiento/144...   \n",
       "343c0a22c7829a7b203c6a35d4deee07  http://www.eluniversal.com/politica/144881/a-d...   \n",
       "c2d6ff5f94d281843aa136ef05cf7bff  http://www.eluniversal.com/gastronomia/144789/...   \n",
       "175f0480dabfbec18a5a85500088aab4  http://www.eluniversal.com/venezuela/145053/ch...   \n",
       "e7966095e7e42bbf2b1d6a4aafed670e  http://www.eluniversal.com/economia/145025/gob...   \n",
       "12b5a3de0d367ade1607c7100ab4d920  http://www.eluniversal.com/sucesos/144745/el-a...   \n",
       "550ebfee942719658263f30aa499c6d5  http://www.eluniversal.com/entretenimiento/145...   \n",
       "ed6d53130a9d9f5871f6290b6682710a  http://www.eluniversal.com/entretenimiento/144...   \n",
       "aec561a1c24bff79dd81a71598883323  http://www.eluniversal.com/entretenimiento/144...   \n",
       "\n",
       "                                 newspaper_uid                 host  \\\n",
       "uid                                                                   \n",
       "7aadb847089d5df9b9b4f7b88daaca1f   eluniversal  www.eluniversal.com   \n",
       "df832d45491a3c4b9c4a6820c23cea29   eluniversal  www.eluniversal.com   \n",
       "343c0a22c7829a7b203c6a35d4deee07   eluniversal  www.eluniversal.com   \n",
       "c2d6ff5f94d281843aa136ef05cf7bff   eluniversal  www.eluniversal.com   \n",
       "175f0480dabfbec18a5a85500088aab4   eluniversal  www.eluniversal.com   \n",
       "e7966095e7e42bbf2b1d6a4aafed670e   eluniversal  www.eluniversal.com   \n",
       "12b5a3de0d367ade1607c7100ab4d920   eluniversal  www.eluniversal.com   \n",
       "550ebfee942719658263f30aa499c6d5   eluniversal  www.eluniversal.com   \n",
       "ed6d53130a9d9f5871f6290b6682710a   eluniversal  www.eluniversal.com   \n",
       "aec561a1c24bff79dd81a71598883323   eluniversal  www.eluniversal.com   \n",
       "\n",
       "                                  n_tokens_title  n_tokens_body  \n",
       "uid                                                              \n",
       "7aadb847089d5df9b9b4f7b88daaca1f               5            162  \n",
       "df832d45491a3c4b9c4a6820c23cea29               6            254  \n",
       "343c0a22c7829a7b203c6a35d4deee07               7            419  \n",
       "c2d6ff5f94d281843aa136ef05cf7bff               3            194  \n",
       "175f0480dabfbec18a5a85500088aab4               7            120  \n",
       "e7966095e7e42bbf2b1d6a4aafed670e              10            149  \n",
       "12b5a3de0d367ade1607c7100ab4d920               6            508  \n",
       "550ebfee942719658263f30aa499c6d5               8            233  \n",
       "ed6d53130a9d9f5871f6290b6682710a               7            474  \n",
       "aec561a1c24bff79dd81a71598883323               7            774  "
      ]
     },
     "execution_count": 30,
     "metadata": {},
     "output_type": "execute_result"
    }
   ],
   "source": [
    "el_universal.head(10)"
   ]
  },
  {
   "cell_type": "code",
   "execution_count": 32,
   "metadata": {},
   "outputs": [
    {
     "data": {
      "text/plain": [
       "(44, 7)"
      ]
     },
     "execution_count": 32,
     "metadata": {},
     "output_type": "execute_result"
    }
   ],
   "source": [
    "el_universal.shape"
   ]
  },
  {
   "cell_type": "markdown",
   "metadata": {},
   "source": [
    "#### 8. Descriptive Analisys"
   ]
  },
  {
   "cell_type": "code",
   "execution_count": 39,
   "metadata": {},
   "outputs": [],
   "source": [
    "clean_eluniversal = pd.read_csv('../output/processed/clean_eluniversal_2022-12-11_articles.csv')\n",
    "clean_elpais = pd.read_csv('../output/processed/clean_elpais_2022-12-11_articles.csv')"
   ]
  },
  {
   "cell_type": "code",
   "execution_count": 40,
   "metadata": {},
   "outputs": [
    {
     "data": {
      "text/html": [
       "<div>\n",
       "<style scoped>\n",
       "    .dataframe tbody tr th:only-of-type {\n",
       "        vertical-align: middle;\n",
       "    }\n",
       "\n",
       "    .dataframe tbody tr th {\n",
       "        vertical-align: top;\n",
       "    }\n",
       "\n",
       "    .dataframe thead th {\n",
       "        text-align: right;\n",
       "    }\n",
       "</style>\n",
       "<table border=\"1\" class=\"dataframe\">\n",
       "  <thead>\n",
       "    <tr style=\"text-align: right;\">\n",
       "      <th></th>\n",
       "      <th>n_tokens_title</th>\n",
       "      <th>n_tokens_body</th>\n",
       "    </tr>\n",
       "  </thead>\n",
       "  <tbody>\n",
       "    <tr>\n",
       "      <th>count</th>\n",
       "      <td>44.000000</td>\n",
       "      <td>44.000000</td>\n",
       "    </tr>\n",
       "    <tr>\n",
       "      <th>mean</th>\n",
       "      <td>6.454545</td>\n",
       "      <td>214.454545</td>\n",
       "    </tr>\n",
       "    <tr>\n",
       "      <th>std</th>\n",
       "      <td>1.946428</td>\n",
       "      <td>146.639481</td>\n",
       "    </tr>\n",
       "    <tr>\n",
       "      <th>min</th>\n",
       "      <td>2.000000</td>\n",
       "      <td>61.000000</td>\n",
       "    </tr>\n",
       "    <tr>\n",
       "      <th>25%</th>\n",
       "      <td>5.750000</td>\n",
       "      <td>103.500000</td>\n",
       "    </tr>\n",
       "    <tr>\n",
       "      <th>50%</th>\n",
       "      <td>7.000000</td>\n",
       "      <td>153.500000</td>\n",
       "    </tr>\n",
       "    <tr>\n",
       "      <th>75%</th>\n",
       "      <td>8.000000</td>\n",
       "      <td>314.250000</td>\n",
       "    </tr>\n",
       "    <tr>\n",
       "      <th>max</th>\n",
       "      <td>11.000000</td>\n",
       "      <td>583.000000</td>\n",
       "    </tr>\n",
       "  </tbody>\n",
       "</table>\n",
       "</div>"
      ],
      "text/plain": [
       "       n_tokens_title  n_tokens_body\n",
       "count       44.000000      44.000000\n",
       "mean         6.454545     214.454545\n",
       "std          1.946428     146.639481\n",
       "min          2.000000      61.000000\n",
       "25%          5.750000     103.500000\n",
       "50%          7.000000     153.500000\n",
       "75%          8.000000     314.250000\n",
       "max         11.000000     583.000000"
      ]
     },
     "execution_count": 40,
     "metadata": {},
     "output_type": "execute_result"
    }
   ],
   "source": [
    "clean_eluniversal.describe()"
   ]
  },
  {
   "cell_type": "code",
   "execution_count": 41,
   "metadata": {},
   "outputs": [
    {
     "data": {
      "text/html": [
       "<div>\n",
       "<style scoped>\n",
       "    .dataframe tbody tr th:only-of-type {\n",
       "        vertical-align: middle;\n",
       "    }\n",
       "\n",
       "    .dataframe tbody tr th {\n",
       "        vertical-align: top;\n",
       "    }\n",
       "\n",
       "    .dataframe thead th {\n",
       "        text-align: right;\n",
       "    }\n",
       "</style>\n",
       "<table border=\"1\" class=\"dataframe\">\n",
       "  <thead>\n",
       "    <tr style=\"text-align: right;\">\n",
       "      <th></th>\n",
       "      <th>n_tokens_title</th>\n",
       "      <th>n_tokens_body</th>\n",
       "    </tr>\n",
       "  </thead>\n",
       "  <tbody>\n",
       "    <tr>\n",
       "      <th>count</th>\n",
       "      <td>133.000000</td>\n",
       "      <td>133.000000</td>\n",
       "    </tr>\n",
       "    <tr>\n",
       "      <th>mean</th>\n",
       "      <td>7.255639</td>\n",
       "      <td>63.954887</td>\n",
       "    </tr>\n",
       "    <tr>\n",
       "      <th>std</th>\n",
       "      <td>2.838198</td>\n",
       "      <td>25.512286</td>\n",
       "    </tr>\n",
       "    <tr>\n",
       "      <th>min</th>\n",
       "      <td>1.000000</td>\n",
       "      <td>8.000000</td>\n",
       "    </tr>\n",
       "    <tr>\n",
       "      <th>25%</th>\n",
       "      <td>6.000000</td>\n",
       "      <td>46.000000</td>\n",
       "    </tr>\n",
       "    <tr>\n",
       "      <th>50%</th>\n",
       "      <td>7.000000</td>\n",
       "      <td>59.000000</td>\n",
       "    </tr>\n",
       "    <tr>\n",
       "      <th>75%</th>\n",
       "      <td>9.000000</td>\n",
       "      <td>78.000000</td>\n",
       "    </tr>\n",
       "    <tr>\n",
       "      <th>max</th>\n",
       "      <td>15.000000</td>\n",
       "      <td>176.000000</td>\n",
       "    </tr>\n",
       "  </tbody>\n",
       "</table>\n",
       "</div>"
      ],
      "text/plain": [
       "       n_tokens_title  n_tokens_body\n",
       "count      133.000000     133.000000\n",
       "mean         7.255639      63.954887\n",
       "std          2.838198      25.512286\n",
       "min          1.000000       8.000000\n",
       "25%          6.000000      46.000000\n",
       "50%          7.000000      59.000000\n",
       "75%          9.000000      78.000000\n",
       "max         15.000000     176.000000"
      ]
     },
     "execution_count": 41,
     "metadata": {},
     "output_type": "execute_result"
    }
   ],
   "source": [
    "clean_elpais.describe()"
   ]
  },
  {
   "cell_type": "code",
   "execution_count": 42,
   "metadata": {},
   "outputs": [
    {
     "data": {
      "text/html": [
       "<div>\n",
       "<style scoped>\n",
       "    .dataframe tbody tr th:only-of-type {\n",
       "        vertical-align: middle;\n",
       "    }\n",
       "\n",
       "    .dataframe tbody tr th {\n",
       "        vertical-align: top;\n",
       "    }\n",
       "\n",
       "    .dataframe thead th {\n",
       "        text-align: right;\n",
       "    }\n",
       "</style>\n",
       "<table border=\"1\" class=\"dataframe\">\n",
       "  <thead>\n",
       "    <tr style=\"text-align: right;\">\n",
       "      <th></th>\n",
       "      <th>uid</th>\n",
       "      <th>body</th>\n",
       "      <th>title</th>\n",
       "      <th>url</th>\n",
       "      <th>newspaper_uid</th>\n",
       "      <th>host</th>\n",
       "      <th>n_tokens_title</th>\n",
       "      <th>n_tokens_body</th>\n",
       "    </tr>\n",
       "  </thead>\n",
       "  <tbody>\n",
       "    <tr>\n",
       "      <th>8</th>\n",
       "      <td>cde6a1205aba2d9cb0b6c937d7ea6372</td>\n",
       "      <td>Supongo que aquellos que no pueden vivir sin b...</td>\n",
       "      <td>Negros</td>\n",
       "      <td>https://elpais.com/television/2022-12-10/negro...</td>\n",
       "      <td>elpais</td>\n",
       "      <td>elpais.com</td>\n",
       "      <td>1</td>\n",
       "      <td>46</td>\n",
       "    </tr>\n",
       "    <tr>\n",
       "      <th>115</th>\n",
       "      <td>c7d814d2c707aa8e90c737c8190cce4f</td>\n",
       "      <td>Joan Manuel Serrat se despide. Si un artista s...</td>\n",
       "      <td>Con Serrat</td>\n",
       "      <td>https://elpais.com/opinion/2022-12-11/con-serr...</td>\n",
       "      <td>elpais</td>\n",
       "      <td>elpais.com</td>\n",
       "      <td>1</td>\n",
       "      <td>176</td>\n",
       "    </tr>\n",
       "  </tbody>\n",
       "</table>\n",
       "</div>"
      ],
      "text/plain": [
       "                                  uid  \\\n",
       "8    cde6a1205aba2d9cb0b6c937d7ea6372   \n",
       "115  c7d814d2c707aa8e90c737c8190cce4f   \n",
       "\n",
       "                                                  body       title  \\\n",
       "8    Supongo que aquellos que no pueden vivir sin b...      Negros   \n",
       "115  Joan Manuel Serrat se despide. Si un artista s...  Con Serrat   \n",
       "\n",
       "                                                   url newspaper_uid  \\\n",
       "8    https://elpais.com/television/2022-12-10/negro...        elpais   \n",
       "115  https://elpais.com/opinion/2022-12-11/con-serr...        elpais   \n",
       "\n",
       "           host  n_tokens_title  n_tokens_body  \n",
       "8    elpais.com               1             46  \n",
       "115  elpais.com               1            176  "
      ]
     },
     "execution_count": 42,
     "metadata": {},
     "output_type": "execute_result"
    }
   ],
   "source": [
    "clean_elpais.loc[clean_elpais['n_tokens_title'] == 1]"
   ]
  },
  {
   "cell_type": "code",
   "execution_count": 43,
   "metadata": {},
   "outputs": [],
   "source": [
    "%matplotlib inline"
   ]
  },
  {
   "cell_type": "code",
   "execution_count": 44,
   "metadata": {},
   "outputs": [
    {
     "data": {
      "text/plain": [
       "<AxesSubplot:>"
      ]
     },
     "execution_count": 44,
     "metadata": {},
     "output_type": "execute_result"
    },
    {
     "data": {
      "image/png": "[encoded data removed]",
      "text/plain": [
       "<Figure size 432x288 with 1 Axes>"
      ]
     },
     "metadata": {
      "needs_background": "light"
     },
     "output_type": "display_data"
    }
   ],
   "source": [
    "clean_elpais['n_tokens_title'].plot(style= 'k.')\n",
    "clean_eluniversal['n_tokens_title'].plot(style= 'r.')"
   ]
  },
  {
   "cell_type": "code",
   "execution_count": 45,
   "metadata": {},
   "outputs": [
    {
     "data": {
      "text/plain": [
       "<AxesSubplot:>"
      ]
     },
     "execution_count": 45,
     "metadata": {},
     "output_type": "execute_result"
    },
    {
     "data": {
      "image/png": "[encoded data removed]",
      "text/plain": [
       "<Figure size 432x288 with 1 Axes>"
      ]
     },
     "metadata": {
      "needs_background": "light"
     },
     "output_type": "display_data"
    }
   ],
   "source": [
    "clean_elpais['n_tokens_body'].plot(style= 'k.')\n",
    "clean_eluniversal['n_tokens_body'].plot(style= 'r.')"
   ]
  },
  {
   "cell_type": "code",
   "execution_count": 46,
   "metadata": {},
   "outputs": [
    {
     "data": {
      "text/plain": [
       "newspaper_uid\n",
       "elpais         [[AxesSubplot(0.125,0.125;0.336957x0.755), Axe...\n",
       "eluniversal    [[AxesSubplot(0.125,0.125;0.336957x0.755), Axe...\n",
       "dtype: object"
      ]
     },
     "execution_count": 46,
     "metadata": {},
     "output_type": "execute_result"
    },
    {
     "data": {
      "image/png": "[encoded data removed]",
      "text/plain": [
       "<Figure size 432x288 with 2 Axes>"
      ]
     },
     "metadata": {
      "needs_background": "light"
     },
     "output_type": "display_data"
    },
    {
     "data": {
      "image/png": "[encoded data removed]",
      "text/plain": [
       "<Figure size 432x288 with 2 Axes>"
      ]
     },
     "metadata": {
      "needs_background": "light"
     },
     "output_type": "display_data"
    }
   ],
   "source": [
    "all_newspapers = pd.concat([clean_eluniversal, clean_elpais])\n",
    "\n",
    "grouped = all_newspapers.groupby('newspaper_uid')\n",
    "\n",
    "grouped.hist()"
   ]
  },
  {
   "cell_type": "code",
   "execution_count": 47,
   "metadata": {},
   "outputs": [
    {
     "data": {
      "text/html": [
       "<div>\n",
       "<style scoped>\n",
       "    .dataframe tbody tr th:only-of-type {\n",
       "        vertical-align: middle;\n",
       "    }\n",
       "\n",
       "    .dataframe tbody tr th {\n",
       "        vertical-align: top;\n",
       "    }\n",
       "\n",
       "    .dataframe thead th {\n",
       "        text-align: right;\n",
       "    }\n",
       "</style>\n",
       "<table border=\"1\" class=\"dataframe\">\n",
       "  <thead>\n",
       "    <tr style=\"text-align: right;\">\n",
       "      <th></th>\n",
       "      <th>min</th>\n",
       "      <th>mean</th>\n",
       "      <th>max</th>\n",
       "    </tr>\n",
       "    <tr>\n",
       "      <th>newspaper_uid</th>\n",
       "      <th></th>\n",
       "      <th></th>\n",
       "      <th></th>\n",
       "    </tr>\n",
       "  </thead>\n",
       "  <tbody>\n",
       "    <tr>\n",
       "      <th>elpais</th>\n",
       "      <td>8</td>\n",
       "      <td>63.954887</td>\n",
       "      <td>176</td>\n",
       "    </tr>\n",
       "    <tr>\n",
       "      <th>eluniversal</th>\n",
       "      <td>61</td>\n",
       "      <td>214.454545</td>\n",
       "      <td>583</td>\n",
       "    </tr>\n",
       "  </tbody>\n",
       "</table>\n",
       "</div>"
      ],
      "text/plain": [
       "               min        mean  max\n",
       "newspaper_uid                      \n",
       "elpais           8   63.954887  176\n",
       "eluniversal     61  214.454545  583"
      ]
     },
     "execution_count": 47,
     "metadata": {},
     "output_type": "execute_result"
    }
   ],
   "source": [
    "grouped['n_tokens_body'].agg(['min', 'mean', 'max'])"
   ]
  },
  {
   "cell_type": "code",
   "execution_count": 48,
   "metadata": {},
   "outputs": [
    {
     "data": {
      "text/plain": [
       "newspaper_uid\n",
       "elpais         AxesSubplot(0.125,0.125;0.775x0.755)\n",
       "eluniversal    AxesSubplot(0.125,0.125;0.775x0.755)\n",
       "dtype: object"
      ]
     },
     "execution_count": 48,
     "metadata": {},
     "output_type": "execute_result"
    },
    {
     "data": {
      "image/png": "[encoded data removed]",
      "text/plain": [
       "<Figure size 432x288 with 1 Axes>"
      ]
     },
     "metadata": {
      "needs_background": "light"
     },
     "output_type": "display_data"
    },
    {
     "data": {
      "image/png": "[encoded data removed]",
      "text/plain": [
       "<Figure size 432x288 with 1 Axes>"
      ]
     },
     "metadata": {
      "needs_background": "light"
     },
     "output_type": "display_data"
    }
   ],
   "source": [
    "grouped.plot()"
   ]
  },
  {
   "cell_type": "code",
   "execution_count": null,
   "metadata": {},
   "outputs": [],
   "source": []
  }
 ],
 "metadata": {
  "kernelspec": {
   "display_name": "Python 3.9.12 ('base')",
   "language": "python",
   "name": "python3"
  },
  "language_info": {
   "codemirror_mode": {
    "name": "ipython",
    "version": 3
   },
   "file_extension": ".py",
   "mimetype": "text/x-python",
   "name": "python",
   "nbconvert_exporter": "python",
   "pygments_lexer": "ipython3",
   "version": "3.9.12"
  },
  "orig_nbformat": 4,
  "vscode": {
   "interpreter": {
    "hash": "073671dee5afbdf207b307bb2e01dcff5f97028891ea950b7c8a25437a12bdc5"
   }
  }
 },
 "nbformat": 4,
 "nbformat_minor": 2
}
