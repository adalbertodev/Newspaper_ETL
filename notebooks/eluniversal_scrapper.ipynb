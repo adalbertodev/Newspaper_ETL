{
 "cells": [
  {
   "cell_type": "code",
   "execution_count": 1,
   "metadata": {},
   "outputs": [],
   "source": [
    "from selenium import webdriver\n",
    "from bs4 import BeautifulSoup"
   ]
  },
  {
   "cell_type": "code",
   "execution_count": 2,
   "metadata": {},
   "outputs": [],
   "source": [
    "options = webdriver.ChromeOptions()\n",
    "options.add_argument('--headless')\n",
    "service = webdriver.chrome.service.Service(executable_path= 'C:/chromedriver_win32/chromedriver.exe')\n",
    "browser = webdriver.Chrome(options=options, service= service)"
   ]
  },
  {
   "cell_type": "code",
   "execution_count": null,
   "metadata": {},
   "outputs": [],
   "source": [
    "url = 'https://eluniversal.com'\n",
    "\n",
    "browser.get(url)\n",
    "html = browser.page_source\n",
    "\n",
    "print(html)"
   ]
  },
  {
   "cell_type": "code",
   "execution_count": 22,
   "metadata": {},
   "outputs": [
    {
     "name": "stdout",
     "output_type": "stream",
     "text": [
      "http://www.eluniversal.com/tecnologia/144786/bad-bunny-catar-2022-y-otras-tendencias-de-google\n",
      "http://www.eluniversal.com/internacional/144986/una-vicepresidenta-del-parlamento-europeo-detenida-por-sospechas-de-corrupcion\n",
      "http://www.eluniversal.com/venezuela/144920/ops-en-venezuela-busca-reforzar-la-atencion-medica-de-embarazadas-y-recien-nacidos-q\n",
      "http://www.eluniversal.com/el-universal/144870/san-miguel-marsan\n",
      "http://www.eluniversal.com/deportes/144991/argentina-derrota-a-holanda-en-dramaticos-penales-y-la-albiceleste-pasa-a-semifinales\n",
      "http://www.eluniversal.com/sociales/144688/justicia-britanica-otorga-inmunidad-a-juan-carlos-mientras-fue-rey-de-espana\n",
      "http://www.eluniversal.com/entretenimiento/144977/muere-a-los-62-anos-ronnie-turner-actor-e-hijo-de-la-cantante-tina-turner\n",
      "http://www.eluniversal.com/sucesos/144935/fanb-neutraliza-42-aeronaves-vinculadas-con-el-narcotrafico-en-lo-que-va-de-ano\n",
      "http://www.eluniversal.com/politica/144973/ian-carlos-torres-presenta-cartas-credenciales-en-el-vaticano\n",
      "http://www.eluniversal.com/estilo-de-vida/144865/el-contraataque-legal-de-exempleados-de-twitter-puede-costarle-muy-caro-a-elon-musk\n",
      "http://www.eluniversal.com/caracas/144939/gnb-fortalece-medidas-de-seguridad-en-autopista-caracasla-guaira\n",
      "http://www.eluniversal.com/el-universal/144869/despotas-sobre-dos-ruedas\n",
      "http://www.eluniversal.com/economia/144938/putin-sobre-el-tope-al-precio-del-petroleo-ruso-al-final-los-precios-se-dispararan-y-los-golpearan\n",
      "http://www.eluniversal.com/internacional/144981/peru-rechaza-injerencia-de-mexico-en-sus-asuntos-internos\n",
      "http://www.eluniversal.com/entretenimiento/144980/jackie-chan-volvera-a-la-gran-pantalla-con-una-pareja-explosiva-4\n",
      "http://www.eluniversal.com/economia/144497/ron-pampero-celebra-la-esencia-de-lo-que-somos-con-su-nueva-imagen-premium-y-el-lanzamiento-de-ron\n",
      "http://www.eluniversal.com/venezuela/144978/venezuela-y-guinea-ecuatorial-acuerdan-aumentar-la-cooperacion-petrolera\n",
      "http://www.eluniversal.com/internacional/144976/eln-esta-presente-en-212-municipios-de-colombia-y-busca-expandirse\n",
      "http://www.eluniversal.com/venezuela/144965/vicepresidenta-ejecutiva-expo-internacional-busca-sumar-para-convertir-a-venezuela-en-potencia-en\n",
      "http://www.eluniversal.com/internacional/144962/presidenta-de-peru-dice-que-si-se-amerita-se-pueden-adelantar-elecciones-en-peru\n",
      "http://www.eluniversal.com/politica/144963/diputado-jose-gregorio-correa-espera-que-liberacion-de-algunos-recursos-traiga-beneficios-a-los-en\n",
      "http://www.eluniversal.com/caracas/144944/inspeccionan-terminal-de-pasajeros-la-bandera-para-garantizar-seguridad-de-usuarios\n",
      "http://www.eluniversal.com/sucesos/144877/fanb-destruye-10-motores-usados-para-mineria-ilegal-en-canaima\n",
      "http://www.eluniversal.com/deportes/144989/messi-alcanza-a-batistuta-como-argentino-con-mas-goles-en-mundiales\n",
      "http://www.eluniversal.com/sociales/144857/harry-meghan-fustiga-a-la-prensa-britanica-la-familia-real-y-el-racismo\n",
      "http://www.eluniversal.com/deportes/144984/tite-se-despide-de-brasil-con-una-derrota-dolorosa-pero-en-paz\n",
      "http://www.eluniversal.com/deportes/144966/clasico-internacional-del-caribe-2022-se-efectuara-el-domingo-11-de-diciembre\n",
      "http://www.eluniversal.com/venezuela/144974/restablecen-el-trafico-en-la-troncal16-luego-de-reparaciones-en-la-via\n",
      "http://www.eluniversal.com/politica/144940/luis-eduardo-martinez-presupuesto-2023-ha-perdido-el-40-de-su-valor-sin-ser-aprobado\n",
      "http://www.eluniversal.com/tecnologia/144934/telegram-ahora-funciona-sin-tarjeta-sim\n",
      "http://www.eluniversal.com/venezuela/144985/pagina-web-del-saime-estara-en-mantenimiento-este-fin-de-semana\n",
      "http://www.eluniversal.com/economia/144982/dolar-oficial-supera-la-barrera-de-los-1412-bolivares-por-unidad\n",
      "http://www.eluniversal.com/economia/144918/consumo-en-supermercados-venezolanos-aumento-un-7-este-2022-dice-el-sector\n",
      "http://www.eluniversal.com/internacional/144979/castillo-fue-inducido-con-drogas-a-leer-discurso-golpista-insinua-exjefe-de-gabinete\n",
      "http://www.eluniversal.com/sociales/144795/el-rey-carlos-iii-visitara-el-parlamento-britanico-el-proximo-miercoles\n",
      "http://www.eluniversal.com/caracas/144904/aeropuerto-internacional-de-maiquetia-inaugura-espacios-para-el-publico\n",
      "http://www.eluniversal.com/sucesos/144859/fanb-ha-incautado-mas-de-40000-kg-de-drogas-en-2022-en-distintos-despliegues-nacionales\n",
      "http://www.eluniversal.com/internacional/144941/lula-anuncia-los-primeros-cinco-ministros-para-su-gobierno\n",
      "http://www.eluniversal.com/el-universal/144868/negociaciones\n",
      "http://www.eluniversal.com/entretenimiento/144961/servando-y-florentino-prometen-reunir-a-25-almas-en-el-olimpico-de-la-ucv\n",
      "http://www.eluniversal.com/economia/144802/la-solidaridad-conmemora-ocho-decadas\n",
      "http://www.eluniversal.com/economia/144667/cata-de-vodka-nemiroff-producto-exclusivo-de-comercializadora-labraterra\n",
      "http://www.eluniversal.com/deportes/144983/hemos-eliminado-al-principal-favorito-asegura-el-tecnico-croata\n",
      "http://www.eluniversal.com/economia/144969/delcy-rodriguez-afirma-que-sector-industrial-seguira-creciendo-en-el-2023\n"
     ]
    }
   ],
   "source": [
    "soup = BeautifulSoup(html, 'html.parser')\n",
    "\n",
    "titles_links = soup.select('main a[href^=\"http://www.eluniversal.com/\"]')\n",
    "titles = set([link['href'] for link in titles_links])\n",
    "\n",
    "for title in titles:\n",
    "    print(title)"
   ]
  },
  {
   "cell_type": "code",
   "execution_count": null,
   "metadata": {},
   "outputs": [],
   "source": []
  }
 ],
 "metadata": {
  "kernelspec": {
   "display_name": "Python 3.9.12 ('base')",
   "language": "python",
   "name": "python3"
  },
  "language_info": {
   "codemirror_mode": {
    "name": "ipython",
    "version": 3
   },
   "file_extension": ".py",
   "mimetype": "text/x-python",
   "name": "python",
   "nbconvert_exporter": "python",
   "pygments_lexer": "ipython3",
   "version": "3.9.12"
  },
  "orig_nbformat": 4,
  "vscode": {
   "interpreter": {
    "hash": "073671dee5afbdf207b307bb2e01dcff5f97028891ea950b7c8a25437a12bdc5"
   }
  }
 },
 "nbformat": 4,
 "nbformat_minor": 2
}
